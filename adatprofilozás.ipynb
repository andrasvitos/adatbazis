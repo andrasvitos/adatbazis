{
    "metadata": {
        "kernelspec": {
            "name": "SQL",
            "display_name": "SQL",
            "language": "sql"
        },
        "language_info": {
            "name": "sql",
            "version": ""
        }
    },
    "nbformat_minor": 2,
    "nbformat": 4,
    "cells": [
        {
            "cell_type": "markdown",
            "source": [
                "**A Webshop adatbázisból Termék táblát választottam az adatprofilozás feladat elvégzéséhez.**"
            ],
            "metadata": {
                "azdata_cell_guid": "ba0a1619-68c0-4fbf-91f5-1e5cb4f86a6f"
            },
            "attachments": {}
        },
        {
            "cell_type": "markdown",
            "source": [
                "Az első legkérdezésben a MEGYS oszlop különböző értékeinek darabszámát kérdeztem le."
            ],
            "metadata": {
                "azdata_cell_guid": "67ab8488-6432-4bb3-8903-7580bc20cad8"
            },
            "attachments": {}
        },
        {
            "cell_type": "code",
            "source": [
                "SELECT MEGYS, COUNT(*) AS 'Darabszám'\r\n",
                "FROM Termek\r\n",
                "GROUP BY MEGYS\r\n",
                "ORDER BY 2 ASC"
            ],
            "metadata": {
                "azdata_cell_guid": "5b98520e-f4a9-4d54-be9b-80a7aed28244",
                "language": "sql"
            },
            "outputs": [
                {
                    "output_type": "display_data",
                    "data": {
                        "text/html": "(6 rows affected)"
                    },
                    "metadata": {}
                },
                {
                    "output_type": "display_data",
                    "data": {
                        "text/html": "Total execution time: 00:00:00.026"
                    },
                    "metadata": {}
                },
                {
                    "output_type": "execute_result",
                    "metadata": {},
                    "execution_count": 23,
                    "data": {
                        "application/vnd.dataresource+json": {
                            "schema": {
                                "fields": [
                                    {
                                        "name": "MEGYS"
                                    },
                                    {
                                        "name": "Darabszám"
                                    }
                                ]
                            },
                            "data": [
                                {
                                    "MEGYS": "doboz",
                                    "Darabszám": "1"
                                },
                                {
                                    "MEGYS": "tekercs",
                                    "Darabszám": "1"
                                },
                                {
                                    "MEGYS": "üveg",
                                    "Darabszám": "1"
                                },
                                {
                                    "MEGYS": "ív",
                                    "Darabszám": "21"
                                },
                                {
                                    "MEGYS": "csomag",
                                    "Darabszám": "44"
                                },
                                {
                                    "MEGYS": "db",
                                    "Darabszám": "483"
                                }
                            ]
                        },
                        "text/html": [
                            "<table>",
                            "<tr><th>MEGYS</th><th>Darabszám</th></tr>",
                            "<tr><td>doboz</td><td>1</td></tr>",
                            "<tr><td>tekercs</td><td>1</td></tr>",
                            "<tr><td>üveg</td><td>1</td></tr>",
                            "<tr><td>ív</td><td>21</td></tr>",
                            "<tr><td>csomag</td><td>44</td></tr>",
                            "<tr><td>db</td><td>483</td></tr>",
                            "</table>"
                        ]
                    }
                }
            ],
            "execution_count": 23
        },
        {
            "cell_type": "markdown",
            "source": [
                "A második lekérdezésben a LEIRAS oszlop elemeit vizsgáltam abból a szempontból, hogy hány db NULL értéket, illetve hány db tényleges értéket tartalmazó sor van."
            ],
            "metadata": {
                "azdata_cell_guid": "a013b855-06e1-460c-8007-86a8bd8fb0a2"
            },
            "attachments": {}
        },
        {
            "cell_type": "code",
            "source": [
                "SELECT COUNT(*) AS 'Összes sor',\r\n",
                "       COUNT(LEIRAS) AS 'Van érték',\r\n",
                "       COUNT(*) - COUNT(LEIRAS) AS 'NULL értékek száma'\r\n",
                "FROM Termek"
            ],
            "metadata": {
                "azdata_cell_guid": "c73d33f4-7472-4704-9dec-283db131ad21",
                "language": "sql"
            },
            "outputs": [
                {
                    "output_type": "display_data",
                    "data": {
                        "text/html": "Warning: Null value is eliminated by an aggregate or other SET operation."
                    },
                    "metadata": {}
                },
                {
                    "output_type": "display_data",
                    "data": {
                        "text/html": "(1 row affected)"
                    },
                    "metadata": {}
                },
                {
                    "output_type": "display_data",
                    "data": {
                        "text/html": "Total execution time: 00:00:00.021"
                    },
                    "metadata": {}
                },
                {
                    "output_type": "execute_result",
                    "metadata": {},
                    "execution_count": 25,
                    "data": {
                        "application/vnd.dataresource+json": {
                            "schema": {
                                "fields": [
                                    {
                                        "name": "Összes sor"
                                    },
                                    {
                                        "name": "Van érték"
                                    },
                                    {
                                        "name": "NULL értékek száma"
                                    }
                                ]
                            },
                            "data": [
                                {
                                    "Összes sor": "551",
                                    "Van érték": "24",
                                    "NULL értékek száma": "527"
                                }
                            ]
                        },
                        "text/html": [
                            "<table>",
                            "<tr><th>Összes sor</th><th>Van érték</th><th>NULL értékek száma</th></tr>",
                            "<tr><td>551</td><td>24</td><td>527</td></tr>",
                            "</table>"
                        ]
                    }
                }
            ],
            "execution_count": 25
        },
        {
            "cell_type": "markdown",
            "source": [
                "A harmadik lekérdezés a LISTAAR oszlop minimum és maximum értékeit, valamint az értékek átlagát és szórását adja meg"
            ],
            "metadata": {
                "azdata_cell_guid": "d13bc284-ceb0-4b98-aabe-9d38157792e5"
            },
            "attachments": {}
        },
        {
            "cell_type": "code",
            "source": [
                "SELECT MIN(LISTAAR) AS 'Minimum listaár',\r\n",
                "       MAX(LISTAAR) AS 'Maximum listaár',\r\n",
                "       AVG(LISTAAR) AS 'Átlag listaár',\r\n",
                "       STDEV(LISTAAR) AS 'Szórás'\r\n",
                "FROM Termek\r\n",
                ""
            ],
            "metadata": {
                "azdata_cell_guid": "f213ddce-19d6-4692-a429-54fd983d20b9",
                "language": "sql"
            },
            "outputs": [
                {
                    "output_type": "display_data",
                    "data": {
                        "text/html": "(1 row affected)"
                    },
                    "metadata": {}
                },
                {
                    "output_type": "display_data",
                    "data": {
                        "text/html": "Total execution time: 00:00:00.032"
                    },
                    "metadata": {}
                },
                {
                    "output_type": "execute_result",
                    "metadata": {},
                    "execution_count": 29,
                    "data": {
                        "application/vnd.dataresource+json": {
                            "schema": {
                                "fields": [
                                    {
                                        "name": "Minimum listaár"
                                    },
                                    {
                                        "name": "Maximum listaár"
                                    },
                                    {
                                        "name": "Átlag listaár"
                                    },
                                    {
                                        "name": "Szórás"
                                    }
                                ]
                            },
                            "data": [
                                {
                                    "Minimum listaár": "0",
                                    "Maximum listaár": "46000",
                                    "Átlag listaár": "786,2813067150635",
                                    "Szórás": "3602,4811630060694"
                                }
                            ]
                        },
                        "text/html": [
                            "<table>",
                            "<tr><th>Minimum listaár</th><th>Maximum listaár</th><th>Átlag listaár</th><th>Szórás</th></tr>",
                            "<tr><td>0</td><td>46000</td><td>786,2813067150635</td><td>3602,4811630060694</td></tr>",
                            "</table>"
                        ]
                    }
                }
            ],
            "execution_count": 29
        },
        {
            "cell_type": "markdown",
            "source": [
                "A negyedik lekérdezés a MEGNEVEZES oszlop string értékeinek hosszát, és ez alapján csoportosítva a sorok számát az adott hosszal."
            ],
            "metadata": {
                "azdata_cell_guid": "207bf0c4-5dfd-4957-a56c-b6c3ce1c5c98"
            },
            "attachments": {}
        },
        {
            "cell_type": "code",
            "source": [
                "SELECT LEN(MEGNEVEZES) AS 'Karakterhossz',\r\n",
                "        COUNT(*) AS 'Darabszám'\r\n",
                "FROM Termek\r\n",
                "GROUP BY LEN(MEGNEVEZES)\r\n",
                "ORDER BY 1 ASC"
            ],
            "metadata": {
                "azdata_cell_guid": "50a57f40-795a-4357-bc55-a8d2e8c9872d",
                "language": "sql"
            },
            "outputs": [
                {
                    "output_type": "display_data",
                    "data": {
                        "text/html": "(33 rows affected)"
                    },
                    "metadata": {}
                },
                {
                    "output_type": "display_data",
                    "data": {
                        "text/html": "Total execution time: 00:00:00.027"
                    },
                    "metadata": {}
                },
                {
                    "output_type": "execute_result",
                    "metadata": {},
                    "execution_count": 31,
                    "data": {
                        "application/vnd.dataresource+json": {
                            "schema": {
                                "fields": [
                                    {
                                        "name": "Karakterhossz"
                                    },
                                    {
                                        "name": "Darabszám"
                                    }
                                ]
                            },
                            "data": [
                                {
                                    "Karakterhossz": "3",
                                    "Darabszám": "2"
                                },
                                {
                                    "Karakterhossz": "5",
                                    "Darabszám": "2"
                                },
                                {
                                    "Karakterhossz": "6",
                                    "Darabszám": "1"
                                },
                                {
                                    "Karakterhossz": "7",
                                    "Darabszám": "2"
                                },
                                {
                                    "Karakterhossz": "8",
                                    "Darabszám": "5"
                                },
                                {
                                    "Karakterhossz": "9",
                                    "Darabszám": "8"
                                },
                                {
                                    "Karakterhossz": "10",
                                    "Darabszám": "15"
                                },
                                {
                                    "Karakterhossz": "11",
                                    "Darabszám": "18"
                                },
                                {
                                    "Karakterhossz": "12",
                                    "Darabszám": "23"
                                },
                                {
                                    "Karakterhossz": "13",
                                    "Darabszám": "30"
                                },
                                {
                                    "Karakterhossz": "14",
                                    "Darabszám": "35"
                                },
                                {
                                    "Karakterhossz": "15",
                                    "Darabszám": "32"
                                },
                                {
                                    "Karakterhossz": "16",
                                    "Darabszám": "42"
                                },
                                {
                                    "Karakterhossz": "17",
                                    "Darabszám": "32"
                                },
                                {
                                    "Karakterhossz": "18",
                                    "Darabszám": "38"
                                },
                                {
                                    "Karakterhossz": "19",
                                    "Darabszám": "37"
                                },
                                {
                                    "Karakterhossz": "20",
                                    "Darabszám": "35"
                                },
                                {
                                    "Karakterhossz": "21",
                                    "Darabszám": "37"
                                },
                                {
                                    "Karakterhossz": "22",
                                    "Darabszám": "26"
                                },
                                {
                                    "Karakterhossz": "23",
                                    "Darabszám": "20"
                                },
                                {
                                    "Karakterhossz": "24",
                                    "Darabszám": "29"
                                },
                                {
                                    "Karakterhossz": "25",
                                    "Darabszám": "16"
                                },
                                {
                                    "Karakterhossz": "26",
                                    "Darabszám": "12"
                                },
                                {
                                    "Karakterhossz": "27",
                                    "Darabszám": "10"
                                },
                                {
                                    "Karakterhossz": "28",
                                    "Darabszám": "8"
                                },
                                {
                                    "Karakterhossz": "29",
                                    "Darabszám": "11"
                                },
                                {
                                    "Karakterhossz": "30",
                                    "Darabszám": "11"
                                },
                                {
                                    "Karakterhossz": "31",
                                    "Darabszám": "5"
                                },
                                {
                                    "Karakterhossz": "32",
                                    "Darabszám": "1"
                                },
                                {
                                    "Karakterhossz": "33",
                                    "Darabszám": "2"
                                },
                                {
                                    "Karakterhossz": "36",
                                    "Darabszám": "2"
                                },
                                {
                                    "Karakterhossz": "39",
                                    "Darabszám": "2"
                                },
                                {
                                    "Karakterhossz": "40",
                                    "Darabszám": "2"
                                }
                            ]
                        },
                        "text/html": [
                            "<table>",
                            "<tr><th>Karakterhossz</th><th>Darabszám</th></tr>",
                            "<tr><td>3</td><td>2</td></tr>",
                            "<tr><td>5</td><td>2</td></tr>",
                            "<tr><td>6</td><td>1</td></tr>",
                            "<tr><td>7</td><td>2</td></tr>",
                            "<tr><td>8</td><td>5</td></tr>",
                            "<tr><td>9</td><td>8</td></tr>",
                            "<tr><td>10</td><td>15</td></tr>",
                            "<tr><td>11</td><td>18</td></tr>",
                            "<tr><td>12</td><td>23</td></tr>",
                            "<tr><td>13</td><td>30</td></tr>",
                            "<tr><td>14</td><td>35</td></tr>",
                            "<tr><td>15</td><td>32</td></tr>",
                            "<tr><td>16</td><td>42</td></tr>",
                            "<tr><td>17</td><td>32</td></tr>",
                            "<tr><td>18</td><td>38</td></tr>",
                            "<tr><td>19</td><td>37</td></tr>",
                            "<tr><td>20</td><td>35</td></tr>",
                            "<tr><td>21</td><td>37</td></tr>",
                            "<tr><td>22</td><td>26</td></tr>",
                            "<tr><td>23</td><td>20</td></tr>",
                            "<tr><td>24</td><td>29</td></tr>",
                            "<tr><td>25</td><td>16</td></tr>",
                            "<tr><td>26</td><td>12</td></tr>",
                            "<tr><td>27</td><td>10</td></tr>",
                            "<tr><td>28</td><td>8</td></tr>",
                            "<tr><td>29</td><td>11</td></tr>",
                            "<tr><td>30</td><td>11</td></tr>",
                            "<tr><td>31</td><td>5</td></tr>",
                            "<tr><td>32</td><td>1</td></tr>",
                            "<tr><td>33</td><td>2</td></tr>",
                            "<tr><td>36</td><td>2</td></tr>",
                            "<tr><td>39</td><td>2</td></tr>",
                            "<tr><td>40</td><td>2</td></tr>",
                            "</table>"
                        ]
                    }
                }
            ],
            "execution_count": 31
        }
    ]
}