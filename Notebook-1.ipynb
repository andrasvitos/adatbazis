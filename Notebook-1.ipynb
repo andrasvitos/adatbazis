{
    "metadata": {
        "kernelspec": {
            "name": "SQL",
            "display_name": "SQL",
            "language": "sql"
        },
        "language_info": {
            "name": "sql",
            "version": ""
        }
    },
    "nbformat_minor": 2,
    "nbformat": 4,
    "cells": [
        {
            "cell_type": "code",
            "source": [
                "SELECT szh.SZALLAS_ID AS 'Szálláshely azonosító',\r\n",
                "         szh.SZALLAS_NEV AS 'Szálláshely neve',\r\n",
                "         COUNT(sz.KLIMAS) AS 'Klímás szobák száma'\r\n",
                "FROM Szallashely Szh JOIN SZoba sz ON Szh.SZALLAS_ID = sz.SZALLAS_FK\r\n",
                "WHERE \r\n",
                "GROUP BY szh.SZALLAS_ID, szh.SZALLAS_NEV"
            ],
            "metadata": {
                "azdata_cell_guid": "a03eb875-511e-4405-b964-0f5906c4ce20",
                "language": "sql"
            },
            "outputs": [
                {
                    "output_type": "display_data",
                    "data": {
                        "text/html": "(20 rows affected)"
                    },
                    "metadata": {}
                },
                {
                    "output_type": "display_data",
                    "data": {
                        "text/html": "Total execution time: 00:00:00.018"
                    },
                    "metadata": {}
                },
                {
                    "output_type": "execute_result",
                    "metadata": {},
                    "execution_count": 16,
                    "data": {
                        "application/vnd.dataresource+json": {
                            "schema": {
                                "fields": [
                                    {
                                        "name": "Szálláshely azonosító"
                                    },
                                    {
                                        "name": "Szálláshely neve"
                                    },
                                    {
                                        "name": "Klímás szobák száma"
                                    }
                                ]
                            },
                            "data": [
                                {
                                    "Szálláshely azonosító": "1",
                                    "Szálláshely neve": "Sába-Ház",
                                    "Klímás szobák száma": "12"
                                },
                                {
                                    "Szálláshely azonosító": "2",
                                    "Szálláshely neve": "Családi Ház",
                                    "Klímás szobák száma": "4"
                                },
                                {
                                    "Szálláshely azonosító": "3",
                                    "Szálláshely neve": "Fortuna Apartman",
                                    "Klímás szobák száma": "8"
                                },
                                {
                                    "Szálláshely azonosító": "4",
                                    "Szálláshely neve": "Fortuna panzió",
                                    "Klímás szobák száma": "15"
                                },
                                {
                                    "Szálláshely azonosító": "5",
                                    "Szálláshely neve": "Fortuna Panzió",
                                    "Klímás szobák száma": "10"
                                },
                                {
                                    "Szálláshely azonosító": "6",
                                    "Szálláshely neve": "Kentaur Hotel",
                                    "Klímás szobák száma": "35"
                                },
                                {
                                    "Szálláshely azonosító": "7",
                                    "Szálláshely neve": "Szieszta Apartmanház",
                                    "Klímás szobák száma": "6"
                                },
                                {
                                    "Szálláshely azonosító": "8",
                                    "Szálláshely neve": "Hotel Három Hattyú",
                                    "Klímás szobák száma": "39"
                                },
                                {
                                    "Szálláshely azonosító": "9",
                                    "Szálláshely neve": "Jáde panzió",
                                    "Klímás szobák száma": "5"
                                },
                                {
                                    "Szálláshely azonosító": "10",
                                    "Szálláshely neve": "Lagúna Hotel",
                                    "Klímás szobák száma": "25"
                                },
                                {
                                    "Szálláshely azonosító": "11",
                                    "Szálláshely neve": "Partiszél Vendégház",
                                    "Klímás szobák száma": "5"
                                },
                                {
                                    "Szálláshely azonosító": "12",
                                    "Szálláshely neve": "Gold Hotel",
                                    "Klímás szobák száma": "50"
                                },
                                {
                                    "Szálláshely azonosító": "13",
                                    "Szálláshely neve": "Riviéra Panzió",
                                    "Klímás szobák száma": "12"
                                },
                                {
                                    "Szálláshely azonosító": "14",
                                    "Szálláshely neve": "Nyárfás Vendégház",
                                    "Klímás szobák száma": "4"
                                },
                                {
                                    "Szálláshely azonosító": "15",
                                    "Szálláshely neve": "Tímárház Panzió",
                                    "Klímás szobák száma": "12"
                                },
                                {
                                    "Szálláshely azonosító": "16",
                                    "Szálláshely neve": "Bagoly Hotel",
                                    "Klímás szobák száma": "20"
                                },
                                {
                                    "Szálláshely azonosító": "17",
                                    "Szálláshely neve": "Szarvas Hotel",
                                    "Klímás szobák száma": "15"
                                },
                                {
                                    "Szálláshely azonosító": "18",
                                    "Szálláshely neve": "Fortuna Apartman",
                                    "Klímás szobák száma": "3"
                                },
                                {
                                    "Szálláshely azonosító": "19",
                                    "Szálláshely neve": "Nyárfás Vendégház",
                                    "Klímás szobák száma": "4"
                                },
                                {
                                    "Szálláshely azonosító": "20",
                                    "Szálláshely neve": "Kollégium",
                                    "Klímás szobák száma": "10"
                                }
                            ]
                        },
                        "text/html": [
                            "<table>",
                            "<tr><th>Szálláshely azonosító</th><th>Szálláshely neve</th><th>Klímás szobák száma</th></tr>",
                            "<tr><td>1</td><td>Sába-Ház</td><td>12</td></tr>",
                            "<tr><td>2</td><td>Családi Ház</td><td>4</td></tr>",
                            "<tr><td>3</td><td>Fortuna Apartman</td><td>8</td></tr>",
                            "<tr><td>4</td><td>Fortuna panzió</td><td>15</td></tr>",
                            "<tr><td>5</td><td>Fortuna Panzió</td><td>10</td></tr>",
                            "<tr><td>6</td><td>Kentaur Hotel</td><td>35</td></tr>",
                            "<tr><td>7</td><td>Szieszta Apartmanház</td><td>6</td></tr>",
                            "<tr><td>8</td><td>Hotel Három Hattyú</td><td>39</td></tr>",
                            "<tr><td>9</td><td>Jáde panzió</td><td>5</td></tr>",
                            "<tr><td>10</td><td>Lagúna Hotel</td><td>25</td></tr>",
                            "<tr><td>11</td><td>Partiszél Vendégház</td><td>5</td></tr>",
                            "<tr><td>12</td><td>Gold Hotel</td><td>50</td></tr>",
                            "<tr><td>13</td><td>Riviéra Panzió</td><td>12</td></tr>",
                            "<tr><td>14</td><td>Nyárfás Vendégház</td><td>4</td></tr>",
                            "<tr><td>15</td><td>Tímárház Panzió</td><td>12</td></tr>",
                            "<tr><td>16</td><td>Bagoly Hotel</td><td>20</td></tr>",
                            "<tr><td>17</td><td>Szarvas Hotel</td><td>15</td></tr>",
                            "<tr><td>18</td><td>Fortuna Apartman</td><td>3</td></tr>",
                            "<tr><td>19</td><td>Nyárfás Vendégház</td><td>4</td></tr>",
                            "<tr><td>20</td><td>Kollégium</td><td>10</td></tr>",
                            "</table>"
                        ]
                    }
                }
            ],
            "execution_count": 16
        },
        {
            "cell_type": "code",
            "source": [
                "SELECT Szh.SZALLAS_NEV AS 'Szálláshely neve', \r\n",
                "        COUNT(f.FOGLALAS_PK) AS 'Foglalások száma'\r\n",
                "FROM Foglalas F JOIN Szoba sz ON sz.SZOBA_ID = f.SZOBA_FK\r\n",
                "                RIGHT JOIN Szallashely Szh ON Szh.SZALLAS_ID = sz.SZALLAS_FK\r\n",
                "GROUP BY Szh.SZALLAS_NEV"
            ],
            "metadata": {
                "azdata_cell_guid": "2e7b5586-4669-494f-9b89-0dc2b24c03a5",
                "language": "sql"
            },
            "outputs": [
                {
                    "output_type": "display_data",
                    "data": {
                        "text/html": "Warning: Null value is eliminated by an aggregate or other SET operation."
                    },
                    "metadata": {}
                },
                {
                    "output_type": "display_data",
                    "data": {
                        "text/html": "(18 rows affected)"
                    },
                    "metadata": {}
                },
                {
                    "output_type": "display_data",
                    "data": {
                        "text/html": "Total execution time: 00:00:00.016"
                    },
                    "metadata": {}
                },
                {
                    "output_type": "execute_result",
                    "metadata": {},
                    "execution_count": 14,
                    "data": {
                        "application/vnd.dataresource+json": {
                            "schema": {
                                "fields": [
                                    {
                                        "name": "Szállás neve"
                                    },
                                    {
                                        "name": "Foglalások száma"
                                    }
                                ]
                            },
                            "data": [
                                {
                                    "Szállás neve": "Szieszta Apartmanház",
                                    "Foglalások száma": "34"
                                },
                                {
                                    "Szállás neve": "Fortuna Panzió",
                                    "Foglalások száma": "126"
                                },
                                {
                                    "Szállás neve": "Nyárfás Vendégház",
                                    "Foglalások száma": "0"
                                },
                                {
                                    "Szállás neve": "Kentaur Hotel",
                                    "Foglalások száma": "179"
                                },
                                {
                                    "Szállás neve": "Partiszél Vendégház",
                                    "Foglalások száma": "26"
                                },
                                {
                                    "Szállás neve": "Riviéra Panzió",
                                    "Foglalások száma": "0"
                                },
                                {
                                    "Szállás neve": "Sába-Ház",
                                    "Foglalások száma": "70"
                                },
                                {
                                    "Szállás neve": "Tímárház Panzió",
                                    "Foglalások száma": "0"
                                },
                                {
                                    "Szállás neve": "Bagoly Hotel",
                                    "Foglalások száma": "0"
                                },
                                {
                                    "Szállás neve": "Müller Vendégház",
                                    "Foglalások száma": "0"
                                },
                                {
                                    "Szállás neve": "Családi Ház",
                                    "Foglalások száma": "18"
                                },
                                {
                                    "Szállás neve": "Fortuna Apartman",
                                    "Foglalások száma": "39"
                                },
                                {
                                    "Szállás neve": "Szarvas Hotel",
                                    "Foglalások száma": "0"
                                },
                                {
                                    "Szállás neve": "Hotel Három Hattyú",
                                    "Foglalások száma": "204"
                                },
                                {
                                    "Szállás neve": "Jáde panzió",
                                    "Foglalások száma": "29"
                                },
                                {
                                    "Szállás neve": "Lagúna Hotel",
                                    "Foglalások száma": "123"
                                },
                                {
                                    "Szállás neve": "Gold Hotel",
                                    "Foglalások száma": "179"
                                },
                                {
                                    "Szállás neve": "Kollégium",
                                    "Foglalások száma": "0"
                                }
                            ]
                        },
                        "text/html": [
                            "<table>",
                            "<tr><th>Szállás neve</th><th>Foglalások száma</th></tr>",
                            "<tr><td>Szieszta Apartmanház</td><td>34</td></tr>",
                            "<tr><td>Fortuna Panzió</td><td>126</td></tr>",
                            "<tr><td>Nyárfás Vendégház</td><td>0</td></tr>",
                            "<tr><td>Kentaur Hotel</td><td>179</td></tr>",
                            "<tr><td>Partiszél Vendégház</td><td>26</td></tr>",
                            "<tr><td>Riviéra Panzió</td><td>0</td></tr>",
                            "<tr><td>Sába-Ház</td><td>70</td></tr>",
                            "<tr><td>Tímárház Panzió</td><td>0</td></tr>",
                            "<tr><td>Bagoly Hotel</td><td>0</td></tr>",
                            "<tr><td>Müller Vendégház</td><td>0</td></tr>",
                            "<tr><td>Családi Ház</td><td>18</td></tr>",
                            "<tr><td>Fortuna Apartman</td><td>39</td></tr>",
                            "<tr><td>Szarvas Hotel</td><td>0</td></tr>",
                            "<tr><td>Hotel Három Hattyú</td><td>204</td></tr>",
                            "<tr><td>Jáde panzió</td><td>29</td></tr>",
                            "<tr><td>Lagúna Hotel</td><td>123</td></tr>",
                            "<tr><td>Gold Hotel</td><td>179</td></tr>",
                            "<tr><td>Kollégium</td><td>0</td></tr>",
                            "</table>"
                        ]
                    }
                }
            ],
            "execution_count": 14
        }
    ]
}