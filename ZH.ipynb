{
    "metadata": {
        "kernelspec": {
            "name": "SQL",
            "display_name": "SQL",
            "language": "sql"
        },
        "language_info": {
            "name": "sql",
            "version": ""
        }
    },
    "nbformat_minor": 2,
    "nbformat": 4,
    "cells": [
        {
            "cell_type": "code",
            "source": [
                "SELECT TIPUS,\r\n",
                "       HELY,\r\n",
                "       ROUND(AVG(CSILLAGOK_SZAMA), 2) AS 'csillag átlag'\r\n",
                "FROM Szallashely\r\n",
                "WHERE SZALLAS_NEV NOT LIKE '%-%'\r\n",
                "GROUP BY GROUPING SETS(TIPUS, HELY)\r\n",
                "\r\n",
                ""
            ],
            "metadata": {
                "azdata_cell_guid": "8486c193-5811-414e-93fa-2eece098b67e",
                "language": "sql"
            },
            "outputs": [
                {
                    "output_type": "display_data",
                    "data": {
                        "text/html": "(14 rows affected)"
                    },
                    "metadata": {}
                },
                {
                    "output_type": "display_data",
                    "data": {
                        "text/html": "Total execution time: 00:00:00.012"
                    },
                    "metadata": {}
                },
                {
                    "output_type": "execute_result",
                    "metadata": {},
                    "execution_count": 7,
                    "data": {
                        "application/vnd.dataresource+json": {
                            "schema": {
                                "fields": [
                                    {
                                        "name": "TIPUS"
                                    },
                                    {
                                        "name": "csillag átlag"
                                    }
                                ]
                            },
                            "data": [
                                {
                                    "TIPUS": "NULL",
                                    "csillag átlag": "2"
                                },
                                {
                                    "TIPUS": "NULL",
                                    "csillag átlag": "0"
                                },
                                {
                                    "TIPUS": "NULL",
                                    "csillag átlag": "3"
                                },
                                {
                                    "TIPUS": "NULL",
                                    "csillag átlag": "2"
                                },
                                {
                                    "TIPUS": "NULL",
                                    "csillag átlag": "1"
                                },
                                {
                                    "TIPUS": "NULL",
                                    "csillag átlag": "0"
                                },
                                {
                                    "TIPUS": "NULL",
                                    "csillag átlag": "0"
                                },
                                {
                                    "TIPUS": "NULL",
                                    "csillag átlag": "3"
                                },
                                {
                                    "TIPUS": "NULL",
                                    "csillag átlag": "4"
                                },
                                {
                                    "TIPUS": "Apartman",
                                    "csillag átlag": "0"
                                },
                                {
                                    "TIPUS": "Diákszálló",
                                    "csillag átlag": "0"
                                },
                                {
                                    "TIPUS": "Hotel",
                                    "csillag átlag": "3"
                                },
                                {
                                    "TIPUS": "panzió",
                                    "csillag átlag": "3"
                                },
                                {
                                    "TIPUS": "vendégház",
                                    "csillag átlag": "0"
                                }
                            ]
                        },
                        "text/html": [
                            "<table>",
                            "<tr><th>TIPUS</th><th>csillag átlag</th></tr>",
                            "<tr><td>NULL</td><td>2</td></tr>",
                            "<tr><td>NULL</td><td>0</td></tr>",
                            "<tr><td>NULL</td><td>3</td></tr>",
                            "<tr><td>NULL</td><td>2</td></tr>",
                            "<tr><td>NULL</td><td>1</td></tr>",
                            "<tr><td>NULL</td><td>0</td></tr>",
                            "<tr><td>NULL</td><td>0</td></tr>",
                            "<tr><td>NULL</td><td>3</td></tr>",
                            "<tr><td>NULL</td><td>4</td></tr>",
                            "<tr><td>Apartman</td><td>0</td></tr>",
                            "<tr><td>Diákszálló</td><td>0</td></tr>",
                            "<tr><td>Hotel</td><td>3</td></tr>",
                            "<tr><td>panzió</td><td>3</td></tr>",
                            "<tr><td>vendégház</td><td>0</td></tr>",
                            "</table>"
                        ]
                    }
                }
            ],
            "execution_count": 7
        },
        {
            "cell_type": "code",
            "source": [
                "SELECT szl.SZALLAS_NEV,\r\n",
                "       COUNT(f.FOGLALAS_PK) AS 'Foglalások száma'\r\n",
                "FROM Szallashely szl LEFT JOIN Szoba sz ON sz.SZALLAS_FK = szl.SZALLAS_ID\r\n",
                "                    JOIN Foglalas f ON f.SZOBA_FK = sz.SZOBA_ID\r\n",
                "WHERE szl.SZALLAS_ID > ALL\r\n",
                "(\r\n",
                "    SELECT SZALLAS_ID\r\n",
                "    FROM Szallashely\r\n",
                "    WHERE SZALLAS_NEV = 'Fortuna panzió'\r\n",
                ")\r\n",
                "GROUP BY szl.SZALLAS_NEV\r\n",
                ""
            ],
            "metadata": {
                "azdata_cell_guid": "e9807701-b8df-4638-a480-677e63ab18cc",
                "language": "sql"
            },
            "outputs": [
                {
                    "output_type": "display_data",
                    "data": {
                        "text/html": "(7 rows affected)"
                    },
                    "metadata": {}
                },
                {
                    "output_type": "display_data",
                    "data": {
                        "text/html": "Total execution time: 00:00:00.048"
                    },
                    "metadata": {}
                },
                {
                    "output_type": "execute_result",
                    "metadata": {},
                    "execution_count": 14,
                    "data": {
                        "application/vnd.dataresource+json": {
                            "schema": {
                                "fields": [
                                    {
                                        "name": "SZALLAS_NEV"
                                    },
                                    {
                                        "name": "Foglalások száma"
                                    }
                                ]
                            },
                            "data": [
                                {
                                    "SZALLAS_NEV": "Gold Hotel",
                                    "Foglalások száma": "179"
                                },
                                {
                                    "SZALLAS_NEV": "Hotel Három Hattyú",
                                    "Foglalások száma": "204"
                                },
                                {
                                    "SZALLAS_NEV": "Jáde panzió",
                                    "Foglalások száma": "29"
                                },
                                {
                                    "SZALLAS_NEV": "Kentaur Hotel",
                                    "Foglalások száma": "179"
                                },
                                {
                                    "SZALLAS_NEV": "Lagúna Hotel",
                                    "Foglalások száma": "123"
                                },
                                {
                                    "SZALLAS_NEV": "Partiszél Vendégház",
                                    "Foglalások száma": "26"
                                },
                                {
                                    "SZALLAS_NEV": "Szieszta Apartmanház",
                                    "Foglalások száma": "34"
                                }
                            ]
                        },
                        "text/html": [
                            "<table>",
                            "<tr><th>SZALLAS_NEV</th><th>Foglalások száma</th></tr>",
                            "<tr><td>Gold Hotel</td><td>179</td></tr>",
                            "<tr><td>Hotel Három Hattyú</td><td>204</td></tr>",
                            "<tr><td>Jáde panzió</td><td>29</td></tr>",
                            "<tr><td>Kentaur Hotel</td><td>179</td></tr>",
                            "<tr><td>Lagúna Hotel</td><td>123</td></tr>",
                            "<tr><td>Partiszél Vendégház</td><td>26</td></tr>",
                            "<tr><td>Szieszta Apartmanház</td><td>34</td></tr>",
                            "</table>"
                        ]
                    }
                }
            ],
            "execution_count": 14
        }
    ]
}